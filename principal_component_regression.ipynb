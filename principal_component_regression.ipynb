{
 "cells": [
  {
   "cell_type": "markdown",
   "id": "c6b7f6f3-6fe4-46f5-ae94-bf77250a5b4d",
   "metadata": {},
   "source": [
    "# Principal Component Regression"
   ]
  },
  {
   "cell_type": "code",
   "execution_count": 3,
   "id": "83116273-0545-484c-a791-7be1ca7acef7",
   "metadata": {},
   "outputs": [],
   "source": [
    "from sklearn.decomposition import PCA\n",
    "from sklearn.linear_model import LinearRegression\n",
    "from sklearn.metrics import mean_absolute_error, mean_squared_error\n",
    "from sklearn.preprocessing import scale\n",
    "import pandas as pd\n",
    "import numpy as np\n",
    "from sklearn.pipeline import Pipeline"
   ]
  },
  {
   "cell_type": "code",
   "execution_count": 4,
   "id": "2c8b279e-433c-46de-a47a-293dba79e563",
   "metadata": {},
   "outputs": [],
   "source": [
    "df_test = pd.read_csv('C:/Users/dillo/OneDrive/Desktop/PhD Data Science/00 - Classes/DDS-8555 Predictive Analysis/Assignment_3/Data/test.csv')\n",
    "df_train = pd.read_csv('C:/Users/dillo/OneDrive/Desktop/PhD Data Science/00 - Classes/DDS-8555 Predictive Analysis/Assignment_3/Data/train.csv')"
   ]
  },
  {
   "cell_type": "code",
   "execution_count": null,
   "id": "173abddb-bc45-4cc1-a55f-1b41ebc02c40",
   "metadata": {},
   "outputs": [],
   "source": []
  },
  {
   "cell_type": "code",
   "execution_count": 5,
   "id": "862d9c43-7555-448e-9a8a-7c2e3cfd1982",
   "metadata": {},
   "outputs": [
    {
     "name": "stdout",
     "output_type": "stream",
     "text": [
      "Index(['id', 'Length', 'Diameter', 'Height', 'Whole weight', 'Whole weight.1',\n",
      "       'Whole weight.2', 'Shell weight'],\n",
      "      dtype='object')\n"
     ]
    }
   ],
   "source": [
    "ID_COL = \"id\"\n",
    "OBJECT_COL = \"Rings\"\n",
    "DROP_COLs = []\n",
    "\n",
    "num_features = df_train.select_dtypes(include=['int64', 'float64'])\n",
    "num_features = num_features.columns.drop(DROP_COLs + [OBJECT_COL])\n",
    "print(num_features)\n",
    "\n",
    "X_train = df_train[num_features]\n",
    "X_test = df_test[num_features]\n",
    "y_train = df_train[OBJECT_COL]"
   ]
  },
  {
   "cell_type": "code",
   "execution_count": 6,
   "id": "e8f00599-707f-4b8d-b872-967166c709dd",
   "metadata": {},
   "outputs": [],
   "source": [
    "pca = PCA(n_components = 5)\n",
    "\n",
    "reg = LinearRegression()\n",
    "pipeline = Pipeline(steps = [('pca', pca),\n",
    "                             ('reg',reg)])\n",
    "\n",
    "pipeline.fit(X_train, y_train)\n",
    "\n",
    "y_pred = pipeline.predict(X_train)"
   ]
  },
  {
   "cell_type": "code",
   "execution_count": 7,
   "id": "f6fbd021-e183-4bac-852c-c1e8bc0ccf61",
   "metadata": {},
   "outputs": [
    {
     "data": {
      "text/plain": [
       "array([10.59738172, 11.81717507,  4.53779891, ...,  7.28248976,\n",
       "        6.7941268 ,  7.83596914])"
      ]
     },
     "execution_count": 7,
     "metadata": {},
     "output_type": "execute_result"
    }
   ],
   "source": [
    "y_pred"
   ]
  },
  {
   "cell_type": "code",
   "execution_count": 8,
   "id": "96be5d3b-a283-4842-a6ec-02a183cd0277",
   "metadata": {},
   "outputs": [
    {
     "name": "stdout",
     "output_type": "stream",
     "text": [
      "Number of features before PCR: 8\n",
      "Number of features after PCR: 5\n",
      "MAE: 1.40\n",
      "MSE: 4.12\n",
      "RMSE: 2.03\n",
      "R^2: 0.59\n"
     ]
    }
   ],
   "source": [
    "mae = mean_absolute_error(y_train, y_pred)\n",
    "mse = mean_squared_error(y_train, y_pred)\n",
    "rmse = np.sqrt(mse)\n",
    "r2 = pipeline.score(X_train, y_train)\n",
    "\n",
    "print(f'Number of features before PCR: {X_train.shape[1]}')\n",
    "print(f'Number of features after PCR: {pca.n_components_}')\n",
    "\n",
    "print(f'MAE: {mae:.2f}')\n",
    "print(f'MSE: {mse:.2f}')\n",
    "print(f'RMSE: {rmse:.2f}')\n",
    "print(f'R^2: {r2:.2f}')"
   ]
  },
  {
   "cell_type": "markdown",
   "id": "c2237fe8-d598-4990-9750-84ca06bfe2e6",
   "metadata": {},
   "source": [
    "## Using the PCA model the test set."
   ]
  },
  {
   "cell_type": "code",
   "execution_count": 10,
   "id": "7ea95acb-e722-4449-a679-b2599b6ae9a2",
   "metadata": {},
   "outputs": [],
   "source": [
    "X_reduced_train = pca.fit_transform(scale(X_train))\n",
    "X_reduced_test = pca.transform(scale(X_test))[:,:1]\n",
    "\n",
    "regr = LinearRegression()\n",
    "regr.fit(X_reduced_train[:,:1], y_train)\n",
    "\n",
    "pred = regr.predict(X_reduced_test)\n",
    "\n",
    "\n"
   ]
  },
  {
   "cell_type": "code",
   "execution_count": null,
   "id": "d7f08258-d547-442f-894a-2ac21f52461e",
   "metadata": {},
   "outputs": [],
   "source": []
  },
  {
   "cell_type": "code",
   "execution_count": 62,
   "id": "7f7e932e-36ae-4f91-a219-19b8ffb9a0da",
   "metadata": {},
   "outputs": [],
   "source": [
    "submissionComponentRegression = pd.DataFrame({ID_COL: df_test[ID_COL], OBJECT_COL: pred})\n",
    "submissionComponentRegression.to_csv(\"C:/Users/dillo/OneDrive/Desktop/PhD Data Science/00 - Classes/DDS-8555 Predictive Analysis/Assignment_3/Data/submission_component_regression.csv\", index = False)"
   ]
  },
  {
   "cell_type": "markdown",
   "id": "3d53cd5c-efe9-488a-88dc-56c622545e93",
   "metadata": {},
   "source": [
    "# Regularized Regression"
   ]
  },
  {
   "cell_type": "markdown",
   "id": "53f8a1a8-c2ce-4862-8110-630a35ab1211",
   "metadata": {},
   "source": [
    "This secion will utilizing Lasso Regression"
   ]
  },
  {
   "cell_type": "code",
   "execution_count": 14,
   "id": "50291cc2-d584-4913-9511-9cf216ff8bab",
   "metadata": {},
   "outputs": [],
   "source": [
    "from sklearn.linear_model import Lasso"
   ]
  },
  {
   "cell_type": "code",
   "execution_count": 15,
   "id": "f60e47a0-4114-49ad-8e97-c092cabdf66c",
   "metadata": {},
   "outputs": [],
   "source": [
    "rr_df_test = pd.read_csv('C:/Users/dillo/OneDrive/Desktop/PhD Data Science/00 - Classes/DDS-8555 Predictive Analysis/Assignment_3/Data/test.csv')\n",
    "rr_df_train = pd.read_csv('C:/Users/dillo/OneDrive/Desktop/PhD Data Science/00 - Classes/DDS-8555 Predictive Analysis/Assignment_3/Data/train.csv')"
   ]
  },
  {
   "cell_type": "code",
   "execution_count": 16,
   "id": "24735982-ad58-44a2-a2f1-15a4a4d3e388",
   "metadata": {},
   "outputs": [
    {
     "name": "stdout",
     "output_type": "stream",
     "text": [
      "Index(['id', 'Length', 'Diameter', 'Height', 'Whole weight', 'Whole weight.1',\n",
      "       'Whole weight.2', 'Shell weight'],\n",
      "      dtype='object')\n"
     ]
    }
   ],
   "source": [
    "rr_ID_COL = \"id\"\n",
    "rr_OBJECT_COL = \"Rings\"\n",
    "rr_DROP_COLs = []\n",
    "\n",
    "rr_num_features = rr_df_train.select_dtypes(include=['int64', 'float64'])\n",
    "rr_num_features = rr_num_features.columns.drop(rr_DROP_COLs + [rr_OBJECT_COL])\n",
    "print(rr_num_features)\n",
    "\n",
    "rr_X_train = rr_df_train[rr_num_features]\n",
    "rr_X_test = rr_df_test[rr_num_features]\n",
    "rr_y_train = rr_df_train[rr_OBJECT_COL]"
   ]
  },
  {
   "cell_type": "code",
   "execution_count": 17,
   "id": "a6014fc2-737e-46b9-8686-1f31a44aa888",
   "metadata": {},
   "outputs": [
    {
     "name": "stdout",
     "output_type": "stream",
     "text": [
      "0.5993320605934389\n"
     ]
    }
   ],
   "source": [
    "from sklearn.linear_model import LassoCV\n",
    "lasso_cv = LassoCV(alphas = [0.0001, 0.001, 0.01, 0.1, 1, 10], random_state = 0).fit(rr_X_train, rr_y_train)\n",
    "\n",
    "print(lasso_cv.score(rr_X_train, rr_y_train))"
   ]
  },
  {
   "cell_type": "code",
   "execution_count": 18,
   "id": "f10aa92e-344a-4a74-80c1-ed28b6460fcb",
   "metadata": {},
   "outputs": [
    {
     "data": {
      "text/plain": [
       "array([ 8.46928104,  9.87039834, 10.08044511, ..., 11.34820869,\n",
       "       13.63019576,  8.14642359])"
      ]
     },
     "execution_count": 18,
     "metadata": {},
     "output_type": "execute_result"
    }
   ],
   "source": [
    "lasso_cv_pred = lasso_cv.predict(rr_X_test)\n",
    "lasso_cv_pred\n"
   ]
  },
  {
   "cell_type": "code",
   "execution_count": 19,
   "id": "18acff57-2310-4332-8206-8d7e8eee875b",
   "metadata": {},
   "outputs": [
    {
     "data": {
      "text/plain": [
       "543699"
      ]
     },
     "execution_count": 19,
     "metadata": {},
     "output_type": "execute_result"
    }
   ],
   "source": [
    "rr_df_test.size"
   ]
  },
  {
   "cell_type": "code",
   "execution_count": 64,
   "id": "8514a097-3f31-43bd-8058-44406b153325",
   "metadata": {},
   "outputs": [],
   "source": [
    "submissionLassoRegression = pd.DataFrame({rr_ID_COL: rr_df_test[rr_ID_COL], rr_OBJECT_COL: lasso_cv_pred})\n",
    "submissionLassoRegression.to_csv(\"C:/Users/dillo/OneDrive/Desktop/PhD Data Science/00 - Classes/DDS-8555 Predictive Analysis/Assignment_3/Data/submission_lasso_regression.csv\", index = False)"
   ]
  },
  {
   "cell_type": "markdown",
   "id": "f25307d1-77c0-4936-bb67-0ff898587fdf",
   "metadata": {},
   "source": [
    "# Conceptual & Applied Questions"
   ]
  },
  {
   "cell_type": "markdown",
   "id": "8fcfc2a0-e921-4614-a011-1fabb0e3bcb2",
   "metadata": {},
   "source": [
    "## Conceptual Question #1"
   ]
  },
  {
   "cell_type": "markdown",
   "id": "b8591563-c375-4e37-876d-d87e57818d62",
   "metadata": {},
   "source": [
    "1. We perform best subset, forward stepwise, and backward stepwise selection on a single data set. For each approach, we obtain p+1 models, containing 0,1, 2…, p predictors. Explain your answers:\n",
    "   * Which of the three models with k predictors has the smallest training RSS? **The model with the best subset selection has the smallest training RSS since it considers every possible model with k predictors. Thus, it could happen that the other two approaches die end up picking the same model.**\n",
    "   *  Which of the three models with k predictors has the smallest test RSS? **Hard to say with the information given. Best subset may overfit if n is relatively small compared to p. Also, the other two methods may pick a model that performs better on test set by luck.**\n",
    "   *  True or False:\n",
    "  \n",
    "      i. The predictors in the k-variable model identified by forward step wise are a subset of the predictors in the (k+1)-variable model identified by forward stepwise selection. **TRUE**\n",
    "      \n",
    "      ii. The predictors in the k-variable model identified by backward stepwise are a subset of the predictors in the (k+1). **TURE**\n",
    "\n",
    "      iii. The predictors in the k-variable model identified by backward stepwise are a subset of the predictors in the (k+1)-variable model identified by forward stepwise selection. **FALSE**\n",
    "      \n",
    "      \n",
    "iv \tThe predictors in th ek-variable model identified by forward stepwise are a subset of the predictors in the (k+1)-variable model identified by backward stepwise selection.**FALSE**\n",
    "\n",
    "      \r\n",
    " .\tThe predictors in the k-variable model identified by best subset are a subset of the predictors in the (k+1)-variable model identified by best subset selectio **FALSE**SE\r\n"
   ]
  },
  {
   "cell_type": "markdown",
   "id": "25a6f3e2-086a-43a1-b6a8-0655b8a48997",
   "metadata": {},
   "source": [
    "## Applied Question #8"
   ]
  },
  {
   "cell_type": "markdown",
   "id": "d16baa97-f379-41a2-9c90-62fa1d11d1f3",
   "metadata": {},
   "source": [
    "### In this exercise, we will generate simulated data, and will then use this data to perfrom forward and backward stepwise selection.\n",
    "\n",
    "- Create a random number generator and use its normal() method to generate a prdictor $X$ of length n = 100, as well as a noise vector $\\epsilon$ of length n = 100."
   ]
  },
  {
   "cell_type": "code",
   "execution_count": 26,
   "id": "dc0e59be-3f5e-45ae-92c2-160952c7bf83",
   "metadata": {},
   "outputs": [],
   "source": [
    "import numpy as np\n",
    "import pandas as pd\n",
    "from sklearn.linear_model import LinearRegression, LassoCV\n",
    "from sklearn.model_selection import train_test_split\n",
    "from sklearn.metrics import mean_squared_error\n",
    "import matplotlib.pyplot as plt\n",
    "\n",
    "# Setting the seed for reproducibility\n",
    "np.random.seed(42)\n",
    "\n",
    "n = 100\n",
    "X = np.random.normal(0, 1, n)\n",
    "E = np.random.normal(0, 1, n) # E represents epsilon "
   ]
  },
  {
   "cell_type": "markdown",
   "id": "ee756d3d-3a24-4175-8a1b-aaf093c02da6",
   "metadata": {},
   "source": [
    " - Generate a response vector Y of length n = 100 according to the model\n",
    "   \n",
    "   Y = $\\beta$0 + $\\beta$1X + $\\beta$2X<sup>2</sup> + $\\beta$3X<sup>3</sup> + $\\epsilon$,\n",
    "   \n",
    "   where $\\beta$0, $\\beta$1, $\\beta$2, and $\\beta$3 are constants of your choice."
   ]
  },
  {
   "cell_type": "code",
   "execution_count": 28,
   "id": "660ed785-13c3-46fe-aa84-59fb554fc85a",
   "metadata": {},
   "outputs": [],
   "source": [
    "beta0, beta1, beta2, beta3 = 1, 2, 3, -2\n",
    "Y = beta0 + beta1 * X + beta2 * X**2 + beta3 * X**3 + E"
   ]
  },
  {
   "cell_type": "markdown",
   "id": "bc64feaf-2e47-4be8-937f-c2b0aeff7e0b",
   "metadata": {},
   "source": [
    "- Use forward stepwise seleection in order to select a model containing the predictors $X$, $X$<sup>2</sup>, ..., $X$<sup>10</sup>. What is the model obtained occording to C<sub>p</sub>? Report the coefficients of the model obtained. "
   ]
  },
  {
   "cell_type": "code",
   "execution_count": 30,
   "id": "b0acd895-b387-47d1-8bf9-ffa44b7fdc04",
   "metadata": {},
   "outputs": [
    {
     "name": "stdout",
     "output_type": "stream",
     "text": [
      "Forward selection: ['X4', 'X3', 'X2', 'X1', 'X10', 'X8', 'X6', 'X5', 'X7', 'X9']\n",
      "Coefficients: {'X4': 1.4471149999810835, 'X3': 2.1405832637997486, 'X2': -0.08479355550195217, 'X1': 3.014756174875707, 'X10': -2.09019344449532, 'X8': -2.4130242447820267, 'X6': 0.8639188788643204, 'X5': 0.7334659904092777, 'X7': -0.11814616333379035, 'X9': -0.07637439520907563}\n"
     ]
    }
   ],
   "source": [
    "# Implementing a forward selection function\n",
    "def forward_selection( X, y):\n",
    "    features = ['X' + str(i) for i in range(1, 11)]\n",
    "    X_df = pd.DataFrame({f: X**i for i , f in enumerate(features, 1)})\n",
    "\n",
    "    selected = []\n",
    "    while len(selected) < len(features):\n",
    "        remaining = list(set(features) - set(selected))\n",
    "        best_feature = None\n",
    "        best_aic = np.inf\n",
    "        for feature in remaining:\n",
    "            model = LinearRegression()\n",
    "            X_temp = X_df[selected + [feature]]\n",
    "            model.fit(X_temp, y)\n",
    "            y_pred = model.predict(X_temp)\n",
    "            aic = len(y) * np.log(np.mean((y - y_pred)**2)) + 2 * (len(selected) + 2)\n",
    "            if aic < best_aic:\n",
    "                best_aic = aic\n",
    "                best_feature = feature\n",
    "        selected.append(best_feature)\n",
    "\n",
    "    return selected\n",
    "\n",
    "selected_features = forward_selection(X, Y)\n",
    "print(\"Forward selection:\", selected_features)\n",
    "\n",
    "# Fitting the final model\n",
    "X_forward = pd.DataFrame({f: X**i for i, f in enumerate(selected_features, 1)})\n",
    "model_forward = LinearRegression().fit(X_forward, Y)\n",
    "print(\"Coefficients:\", dict(zip(selected_features, model_forward.coef_)))"
   ]
  },
  {
   "cell_type": "markdown",
   "id": "936090b6-bccd-4bf4-9f5f-6556e82ca567",
   "metadata": {},
   "source": [
    "- Repeat the above step using backwards stepwise selection. How does your answer compare to the results above?"
   ]
  },
  {
   "cell_type": "code",
   "execution_count": 32,
   "id": "9263a650-c038-4062-8558-83c27ed3ffb1",
   "metadata": {},
   "outputs": [
    {
     "name": "stdout",
     "output_type": "stream",
     "text": [
      "Backward selection: ['X5']\n",
      "Coefficients: {'X5': -4.050195479229519}\n"
     ]
    }
   ],
   "source": [
    "# Implementing a backward selection function\n",
    "def backward_selection(X, y):\n",
    "    features = ['X' + str(i) for i in range(1, 11)]\n",
    "    X_df = pd.DataFrame({f: X**i for i, f in enumerate(features, 1)})\n",
    "    \n",
    "    selected = features.copy()\n",
    "    while len(selected) > 1:\n",
    "        best_aic = np.inf\n",
    "        worst_feature = None\n",
    "        for feature in selected:\n",
    "            model = LinearRegression()\n",
    "            X_temp = X_df[list(set(selected) - set([feature]))]\n",
    "            model.fit(X_temp, y)\n",
    "            y_pred = model.predict(X_temp)\n",
    "            aic = len(y) * np.log(np.mean((y - y_pred)**2)) + 2 * (len(selected) - 1)\n",
    "            if aic < best_aic:\n",
    "                best_aic = aic\n",
    "                worst_feature = feature\n",
    "        selected.remove(worst_feature)\n",
    "        \n",
    "    return selected\n",
    "\n",
    "selected_features_back = backward_selection(X, Y)\n",
    "print(\"Backward selection:\", selected_features_back)\n",
    "\n",
    "# Fit final model\n",
    "X_backward = pd.DataFrame({f: X**i for i, f in enumerate(selected_features_back, 1)})\n",
    "model_backward = LinearRegression().fit(X_backward, Y)\n",
    "print(\"Coefficients:\", dict(zip(selected_features_back, model_backward.coef_)))"
   ]
  },
  {
   "cell_type": "markdown",
   "id": "80d08c55-6695-4eff-97b3-23c425536280",
   "metadata": {},
   "source": [
    "- Now fit a lasso model to the simulated data, again using $X$, $X$<sup>2</sup>, ..., $X$<sup>10</sup> as predictors. Use cross-validation to select the optimal value of $\\lambda$. Create plots of the cross-validation error as a funtion of $\\lambda$. Report the resulting coefficient estimates, and discuss the results obtained. "
   ]
  },
  {
   "cell_type": "code",
   "execution_count": 34,
   "id": "8f0a556f-e896-486e-b8e2-67647ce451e7",
   "metadata": {},
   "outputs": [
    {
     "data": {
      "image/png": "[encoded data removed]",
      "text/plain": [
       "<Figure size 1000x600 with 1 Axes>"
      ]
     },
     "metadata": {},
     "output_type": "display_data"
    },
    {
     "name": "stdout",
     "output_type": "stream",
     "text": [
      "Optimal alpha: 907.1620\n",
      "\n",
      "Coefficient estimates:\n",
      "X^10: 0.0031\n",
      "\n",
      "Mean Squared Error on test set: 9.2395\n",
      "\n",
      "Model converged\n"
     ]
    }
   ],
   "source": [
    "# Prepare the data\n",
    "X_lasso = np.column_stack([X**i for i in range(1, 11)])\n",
    "feature_names = [f'X^{i}' for i in range(1, 11)]\n",
    "\n",
    "# Split the data\n",
    "X_train, X_test, y_train, y_test = train_test_split(X_lasso, Y, test_size=0.3, random_state=42)\n",
    "\n",
    "# Fit LassoCV\n",
    "lasso_cv = LassoCV(cv=5, random_state=42, max_iter = 100000)\n",
    "lasso_cv.fit(X_train, y_train)\n",
    "\n",
    "# Plot cross-validation error as a function of alpha (lambda)\n",
    "plt.figure(figsize=(10, 6))\n",
    "plt.semilogx(lasso_cv.alphas_, lasso_cv.mse_path_.mean(axis= -1))\n",
    "plt.xlabel('alpha (lambda)')\n",
    "plt.ylabel('Mean squared error')\n",
    "plt.title('Cross-validation error as a function of alpha')\n",
    "plt.show()\n",
    "\n",
    "# Report optimal alpha and coefficients\n",
    "print(f\"Optimal alpha: {lasso_cv.alpha_:.4f}\")\n",
    "print(\"\\nCoefficient estimates:\")\n",
    "for name, coef in zip(feature_names, lasso_cv.coef_):\n",
    "    if abs(coef) > 1e-5: \n",
    "        print(f\"{name}: {coef:.4f}\")\n",
    "\n",
    "# Evaluate on test set\n",
    "y_pred = lasso_cv.predict(X_test)\n",
    "mse = mean_squared_error(y_test, y_pred)\n",
    "print(f\"\\nMean Squared Error on test set: {mse:.4f}\")\n",
    "\n",
    "# Check convergence\n",
    "if lasso_cv.n_iter_ < lasso_cv.max_iter:\n",
    "    print(\"\\nModel converged\")\n",
    "else:\n",
    "    print(\"\\nModel did not converge. Consider increasing max_iter or adjusting tol.\")"
   ]
  },
  {
   "cell_type": "markdown",
   "id": "35efbdea-07ac-4783-b9cd-815b0ea063d3",
   "metadata": {},
   "source": [
    "- Now generate a response vector Y according to the model\n",
    "  \n",
    "Y = $B$<sub>0</sub> + $B$<sub>7</sub>$X$<sup>7</sup> + $\\epsilon$\n",
    "\n",
    "and perform forward stepwise selection and the lasso. Discuss the results obtained. "
   ]
  },
  {
   "cell_type": "code",
   "execution_count": 36,
   "id": "49a1ada8-7f29-4568-aa08-ff0848c14697",
   "metadata": {},
   "outputs": [
    {
     "name": "stdout",
     "output_type": "stream",
     "text": [
      "Forward selection for new Y: ['X7', 'X2', 'X9', 'X5', 'X3', 'X4', 'X8', 'X6', 'X10', 'X1']\n",
      "Coefficients: {'X7': -0.5528850000200086, 'X2': -0.8594167361996992, 'X9': 1.9152064444987702, 'X5': 3.0147561748756893, 'X3': -2.0901934444955477, 'X4': -2.4130242447821932, 'X8': 2.8639188788643644, 'X6': 0.7334659904093239, 'X10': -0.11814616333379746, 'X1': -0.07637439520908074}\n"
     ]
    }
   ],
   "source": [
    "# Generate new Y\n",
    "beta0, beta7 = 1, 2\n",
    "Y_new = beta0 + beta7 * X**7 + E\n",
    "\n",
    "# Perform forward stepwise selection\n",
    "selected_features_new = forward_selection(X, Y_new)\n",
    "print(\"Forward selection for new Y:\", selected_features_new)\n",
    "\n",
    "# Fit final model\n",
    "X_forward_new = pd.DataFrame({f: X**i for i, f in enumerate(selected_features_new, 1)})\n",
    "model_forward_new = LinearRegression().fit(X_forward_new, Y_new)\n",
    "print(\"Coefficients:\", dict(zip(selected_features_new, model_forward_new.coef_)))"
   ]
  },
  {
   "cell_type": "code",
   "execution_count": null,
   "id": "ac2c37fa-f4f1-435c-81a2-78cdc70599aa",
   "metadata": {},
   "outputs": [],
   "source": []
  },
  {
   "cell_type": "code",
   "execution_count": null,
   "id": "488cd2e5-234c-45e8-9acd-12c0c4c95932",
   "metadata": {},
   "outputs": [],
   "source": []
  }
 ],
 "metadata": {
  "kernelspec": {
   "display_name": "Python 3 (ipykernel)",
   "language": "python",
   "name": "python3"
  },
  "language_info": {
   "codemirror_mode": {
    "name": "ipython",
    "version": 3
   },
   "file_extension": ".py",
   "mimetype": "text/x-python",
   "name": "python",
   "nbconvert_exporter": "python",
   "pygments_lexer": "ipython3",
   "version": "3.12.4"
  }
 },
 "nbformat": 4,
 "nbformat_minor": 5
}
